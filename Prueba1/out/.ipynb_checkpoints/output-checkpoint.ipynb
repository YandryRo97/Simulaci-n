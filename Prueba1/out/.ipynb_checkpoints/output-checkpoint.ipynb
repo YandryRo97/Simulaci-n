{
 "cells": [
  {
   "cell_type": "code",
   "execution_count": 1,
   "id": "ab039e66",
   "metadata": {
    "execution": {
     "iopub.execute_input": "2021-05-10T03:41:22.437480Z",
     "iopub.status.busy": "2021-05-10T03:41:22.436480Z",
     "iopub.status.idle": "2021-05-10T03:41:23.392474Z",
     "shell.execute_reply": "2021-05-10T03:41:23.392474Z"
    },
    "papermill": {
     "duration": 0.970003,
     "end_time": "2021-05-10T03:41:23.393475",
     "exception": false,
     "start_time": "2021-05-10T03:41:22.423472",
     "status": "completed"
    },
    "tags": []
   },
   "outputs": [],
   "source": [
    "import pandas as pd\n",
    "import matplotlib.pyplot as plt"
   ]
  },
  {
   "cell_type": "code",
   "execution_count": 2,
   "id": "ef2871be",
   "metadata": {
    "execution": {
     "iopub.execute_input": "2021-05-10T03:41:23.410946Z",
     "iopub.status.busy": "2021-05-10T03:41:23.409928Z",
     "iopub.status.idle": "2021-05-10T03:41:23.412940Z",
     "shell.execute_reply": "2021-05-10T03:41:23.412940Z"
    },
    "papermill": {
     "duration": 0.01249,
     "end_time": "2021-05-10T03:41:23.412940",
     "exception": false,
     "start_time": "2021-05-10T03:41:23.400450",
     "status": "completed"
    },
    "tags": [
     "parameters"
    ]
   },
   "outputs": [],
   "source": [
    "fecha_inicio=''\n",
    "fecha_fin=''"
   ]
  },
  {
   "cell_type": "code",
   "execution_count": 3,
   "id": "77884d6c",
   "metadata": {
    "execution": {
     "iopub.execute_input": "2021-05-10T03:41:23.437932Z",
     "iopub.status.busy": "2021-05-10T03:41:23.436910Z",
     "iopub.status.idle": "2021-05-10T03:41:23.439911Z",
     "shell.execute_reply": "2021-05-10T03:41:23.439911Z"
    },
    "papermill": {
     "duration": 0.013975,
     "end_time": "2021-05-10T03:41:23.439911",
     "exception": false,
     "start_time": "2021-05-10T03:41:23.425936",
     "status": "completed"
    },
    "tags": [
     "injected-parameters"
    ]
   },
   "outputs": [],
   "source": [
    "# Parameters\n",
    "fecha_inicio = \"2021-01-01\"\n",
    "fecha_fin = \"2021-05-07\"\n"
   ]
  },
  {
   "cell_type": "code",
   "execution_count": 4,
   "id": "1467388c",
   "metadata": {
    "execution": {
     "iopub.execute_input": "2021-05-10T03:41:23.474889Z",
     "iopub.status.busy": "2021-05-10T03:41:23.462897Z",
     "iopub.status.idle": "2021-05-10T03:41:23.480888Z",
     "shell.execute_reply": "2021-05-10T03:41:23.481885Z"
    },
    "papermill": {
     "duration": 0.032979,
     "end_time": "2021-05-10T03:41:23.481885",
     "exception": false,
     "start_time": "2021-05-10T03:41:23.448906",
     "status": "completed"
    },
    "tags": []
   },
   "outputs": [
    {
     "data": {
      "text/html": [
       "<div>\n",
       "<style scoped>\n",
       "    .dataframe tbody tr th:only-of-type {\n",
       "        vertical-align: middle;\n",
       "    }\n",
       "\n",
       "    .dataframe tbody tr th {\n",
       "        vertical-align: top;\n",
       "    }\n",
       "\n",
       "    .dataframe thead th {\n",
       "        text-align: right;\n",
       "    }\n",
       "</style>\n",
       "<table border=\"1\" class=\"dataframe\">\n",
       "  <thead>\n",
       "    <tr style=\"text-align: right;\">\n",
       "      <th></th>\n",
       "      <th>fecha</th>\n",
       "      <th>dosis_total</th>\n",
       "      <th>primera_dosis</th>\n",
       "      <th>segunda_dosis</th>\n",
       "    </tr>\n",
       "  </thead>\n",
       "  <tbody>\n",
       "    <tr>\n",
       "      <th>0</th>\n",
       "      <td>2021-01-21</td>\n",
       "      <td>0</td>\n",
       "      <td>0</td>\n",
       "      <td>0</td>\n",
       "    </tr>\n",
       "    <tr>\n",
       "      <th>1</th>\n",
       "      <td>2021-01-22</td>\n",
       "      <td>108</td>\n",
       "      <td>108</td>\n",
       "      <td>0</td>\n",
       "    </tr>\n",
       "    <tr>\n",
       "      <th>2</th>\n",
       "      <td>2021-01-27</td>\n",
       "      <td>2982</td>\n",
       "      <td>2982</td>\n",
       "      <td>0</td>\n",
       "    </tr>\n",
       "    <tr>\n",
       "      <th>3</th>\n",
       "      <td>2021-02-04</td>\n",
       "      <td>6228</td>\n",
       "      <td>6228</td>\n",
       "      <td>0</td>\n",
       "    </tr>\n",
       "    <tr>\n",
       "      <th>4</th>\n",
       "      <td>2021-02-17</td>\n",
       "      <td>8190</td>\n",
       "      <td>6228</td>\n",
       "      <td>1962</td>\n",
       "    </tr>\n",
       "  </tbody>\n",
       "</table>\n",
       "</div>"
      ],
      "text/plain": [
       "       fecha  dosis_total  primera_dosis  segunda_dosis\n",
       "0 2021-01-21            0              0              0\n",
       "1 2021-01-22          108            108              0\n",
       "2 2021-01-27         2982           2982              0\n",
       "3 2021-02-04         6228           6228              0\n",
       "4 2021-02-17         8190           6228           1962"
      ]
     },
     "execution_count": 4,
     "metadata": {},
     "output_type": "execute_result"
    }
   ],
   "source": [
    "vacunas = pd.read_csv('C:/Users/USUARIO/Documents/Simulación/Prueba1/in/vacunas/vacunas.csv')\n",
    "vacunas['fecha']= pd.to_datetime(vacunas['fecha'],format='%d/%m/%Y')\n",
    "vacunas = vacunas[(vacunas['fecha']>=fecha_inicio)&(vacunas['fecha']<=fecha_fin)]\n",
    "vacunas.head()"
   ]
  },
  {
   "cell_type": "code",
   "execution_count": 5,
   "id": "5064d83c",
   "metadata": {
    "execution": {
     "iopub.execute_input": "2021-05-10T03:41:23.503872Z",
     "iopub.status.busy": "2021-05-10T03:41:23.502875Z",
     "iopub.status.idle": "2021-05-10T03:41:23.795705Z",
     "shell.execute_reply": "2021-05-10T03:41:23.795705Z"
    },
    "papermill": {
     "duration": 0.305826,
     "end_time": "2021-05-10T03:41:23.795705",
     "exception": false,
     "start_time": "2021-05-10T03:41:23.489879",
     "status": "completed"
    },
    "tags": []
   },
   "outputs": [
    {
     "data": {
      "image/png": "[encoded data removed]",
      "text/plain": [
       "<Figure size 1080x360 with 1 Axes>"
      ]
     },
     "metadata": {
      "needs_background": "light"
     },
     "output_type": "display_data"
    }
   ],
   "source": [
    "fechas=vacunas['fecha']\n",
    "cantidad=vacunas['dosis']\n",
    "plt.figure(figsize=(15, 5))\n",
    "plt.xlabel(\"Fechas\")\n",
    "plt.ylabel(\"Cantidad de Vacunados\")\n",
    "plt.title('Total de Vacunados en Ecuador')\n",
    "plt.bar(cantidad,fechas)\n",
    "plt.show()"
   ]
  },
  {
   "cell_type": "code",
   "execution_count": 6,
   "id": "85ad48bc",
   "metadata": {
    "execution": {
     "iopub.execute_input": "2021-05-10T03:41:23.820749Z",
     "iopub.status.busy": "2021-05-10T03:41:23.820749Z",
     "iopub.status.idle": "2021-05-10T03:41:23.835741Z",
     "shell.execute_reply": "2021-05-10T03:41:23.836761Z"
    },
    "papermill": {
     "duration": 0.031992,
     "end_time": "2021-05-10T03:41:23.836761",
     "exception": false,
     "start_time": "2021-05-10T03:41:23.804769",
     "status": "completed"
    },
    "tags": []
   },
   "outputs": [
    {
     "data": {
      "text/html": [
       "<div>\n",
       "<style scoped>\n",
       "    .dataframe tbody tr th:only-of-type {\n",
       "        vertical-align: middle;\n",
       "    }\n",
       "\n",
       "    .dataframe tbody tr th {\n",
       "        vertical-align: top;\n",
       "    }\n",
       "\n",
       "    .dataframe thead th {\n",
       "        text-align: right;\n",
       "    }\n",
       "</style>\n",
       "<table border=\"1\" class=\"dataframe\">\n",
       "  <thead>\n",
       "    <tr style=\"text-align: right;\">\n",
       "      <th></th>\n",
       "      <th>vaccine</th>\n",
       "      <th>total</th>\n",
       "      <th>arrived_at</th>\n",
       "    </tr>\n",
       "  </thead>\n",
       "  <tbody>\n",
       "    <tr>\n",
       "      <th>0</th>\n",
       "      <td>Pfizer/BioNTech</td>\n",
       "      <td>8190</td>\n",
       "      <td>2021-01-20</td>\n",
       "    </tr>\n",
       "    <tr>\n",
       "      <th>1</th>\n",
       "      <td>Pfizer/BioNTech</td>\n",
       "      <td>16380</td>\n",
       "      <td>2021-02-17</td>\n",
       "    </tr>\n",
       "    <tr>\n",
       "      <th>2</th>\n",
       "      <td>Pfizer/BioNTech</td>\n",
       "      <td>17550</td>\n",
       "      <td>2021-02-24</td>\n",
       "    </tr>\n",
       "    <tr>\n",
       "      <th>3</th>\n",
       "      <td>Pfizer/BioNTech</td>\n",
       "      <td>31590</td>\n",
       "      <td>2021-03-03</td>\n",
       "    </tr>\n",
       "    <tr>\n",
       "      <th>4</th>\n",
       "      <td>Sinovac</td>\n",
       "      <td>20000</td>\n",
       "      <td>2021-03-06</td>\n",
       "    </tr>\n",
       "  </tbody>\n",
       "</table>\n",
       "</div>"
      ],
      "text/plain": [
       "           vaccine  total arrived_at\n",
       "0  Pfizer/BioNTech   8190 2021-01-20\n",
       "1  Pfizer/BioNTech  16380 2021-02-17\n",
       "2  Pfizer/BioNTech  17550 2021-02-24\n",
       "3  Pfizer/BioNTech  31590 2021-03-03\n",
       "4          Sinovac  20000 2021-03-06"
      ]
     },
     "execution_count": 6,
     "metadata": {},
     "output_type": "execute_result"
    }
   ],
   "source": [
    "fabricantes = pd.read_csv('C:/Users/USUARIO/Documents/Simulación/Prueba1/in/vacunas/fabricantes.csv')\n",
    "fabricantes['arrived_at']= pd.to_datetime(fabricantes['arrived_at'],format='%d/%m/%Y')\n",
    "fabricantess = fabricantes[(fabricantes['arrived_at']>=fecha_inicio)&(fabricantes['arrived_at']<=fecha_fin)]\n",
    "fabricantes.head()"
   ]
  },
  {
   "cell_type": "code",
   "execution_count": null,
   "id": "4ab8fe43",
   "metadata": {
    "papermill": {
     "duration": 0.008014,
     "end_time": "2021-05-10T03:41:23.852751",
     "exception": false,
     "start_time": "2021-05-10T03:41:23.844737",
     "status": "completed"
    },
    "tags": []
   },
   "outputs": [],
   "source": []
  },
  {
   "cell_type": "code",
   "execution_count": null,
   "id": "2e0d1919",
   "metadata": {
    "papermill": {
     "duration": 0.007995,
     "end_time": "2021-05-10T03:41:23.868742",
     "exception": false,
     "start_time": "2021-05-10T03:41:23.860747",
     "status": "completed"
    },
    "tags": []
   },
   "outputs": [],
   "source": []
  }
 ],
 "metadata": {
  "kernelspec": {
   "display_name": "Python 3",
   "language": "python",
   "name": "python3"
  },
  "language_info": {
   "codemirror_mode": {
    "name": "ipython",
    "version": 3
   },
   "file_extension": ".py",
   "mimetype": "text/x-python",
   "name": "python",
   "nbconvert_exporter": "python",
   "pygments_lexer": "ipython3",
   "version": "3.8.3"
  },
  "papermill": {
   "default_parameters": {},
   "duration": 4.624366,
   "end_time": "2021-05-10T03:41:25.134395",
   "environment_variables": {},
   "exception": null,
   "input_path": "./input.ipynb",
   "output_path": "./out/output.ipynb",
   "parameters": {
    "fecha_fin": "2021-05-07",
    "fecha_inicio": "2021-01-01"
   },
   "start_time": "2021-05-10T03:41:20.510029",
   "version": "2.3.3"
  }
 },
 "nbformat": 4,
 "nbformat_minor": 5
}
