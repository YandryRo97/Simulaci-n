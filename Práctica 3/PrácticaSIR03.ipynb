{
 "cells": [
  {
   "cell_type": "markdown",
   "metadata": {},
   "source": [
    "# Autor: Yandry Daniel Romero Carrión"
   ]
  },
  {
   "cell_type": "markdown",
   "metadata": {},
   "source": [
    "El modelo epidémico de SIR\n",
    "\n",
    "Una descripción matemática simple de la propagación de una enfermedad en una población es el llamado modelo SIR, que divide la población (fija) de N individuos en tres \"compartimentos\" que pueden variar en función del tiempo, t:\n",
    "\n",
    "S(t) son aquellos susceptibles pero aún no infectados con la enfermedad;\n",
    "I(t) es el número de individuos infecciosos;\n",
    "R(t) son aquellas personas que se han recuperado de la enfermedad y ahora tienen inmunidad.\n",
    "El modelo SIR describe el cambio en la población de cada uno de estos compartimentos en términos de dos parámetros, beta y gamma.\n",
    "\n",
    "Beta describe la tasa de contacto efectiva de la enfermedad: un individuo infectado entra en contacto con beta*N otros individuos por unidad de tiempo (de los cuales la fracción que es susceptible a contraer la enfermedad es S/N).\n",
    "Gamma es la tasa de recuperación promedio: es decir, 1/ gamma es el período de tiempo promedio durante el cual una persona infectada puede transmitirlo.\n",
    "Las ecuaciones diferenciales que describen este modelo fueron derivadas primero por Kermack y McKendrick [ Proc. R. Soc. A , 115 , 772 (1927)]:\n",
    "\n",
    "$$\\begin{align*}\n",
    "\\frac{\\mathrm{d}S}{\\mathrm{d}t} &amp;= -\\frac{\\beta S I}{N},\\\\\n",
    "\\frac{\\mathrm{d}I}{\\mathrm{d}t} &amp;= \\frac{\\beta S I}{N} - \\gamma I,\\\\\n",
    "\\frac{\\mathrm{d}R}{\\mathrm{d}t} &amp;= \\gamma I.\n",
    "\\end{align*}$$"
   ]
  },
  {
   "cell_type": "code",
   "execution_count": 5,
   "metadata": {},
   "outputs": [
    {
     "name": "stdout",
     "output_type": "stream",
     "text": [
      "Librerias Importadas\n"
     ]
    }
   ],
   "source": [
    "import pandas as pd\n",
    "import numpy as np\n",
    "from datetime import timedelta, datetime\n",
    "import altair as alt\n",
    "import matplotlib.pyplot as plt\n",
    "import scipy.integrate as spi\n",
    "from scipy.optimize import minimize\n",
    "from scipy.integrate import solve_ivp\n",
    "from scipy.integrate import odeint\n",
    "from easydict import EasyDict as easydict\n",
    "print(\"Librerias Importadas\")"
   ]
  },
  {
   "cell_type": "code",
   "execution_count": 6,
   "metadata": {},
   "outputs": [],
   "source": [
    "# Total de la poblacion\n",
    "N = 15000\n",
    "# Numero Inicial de Infectados\n",
    "I0 = 1\n",
    "# Numero de Recuperados\n",
    "R0 = 0\n",
    "# Todos los demás, S0, son susceptibles a la infección inicialmente.\n",
    "S0 = N - I0 - R0\n",
    "# Tasa de contacto, beta (nivel de repoductividad del virus) \n",
    "# La tasa de recuperación media, gamma,(1/días) Una persona se recupera en 15 dias.\n",
    "beta, gamma = 0.4, 1.0/5 \n",
    "# Una cuadrícula de puntos de tiempo (en días)\n",
    "t = np.linspace(0, 200, 200)"
   ]
  },
  {
   "cell_type": "code",
   "execution_count": 7,
   "metadata": {},
   "outputs": [],
   "source": [
    "# Las ecuaciones diferenciales del modelo SIR..\n",
    "def deriv(y, t, N, beta, gamma):\n",
    "    S, I, R = y\n",
    "    dSdt = -beta * S * I / N \n",
    "    dIdt = beta * S * I / N - gamma * I\n",
    "    dRdt = gamma * I\n",
    "    return dSdt, dIdt, dRdt"
   ]
  },
  {
   "cell_type": "code",
   "execution_count": 8,
   "metadata": {},
   "outputs": [],
   "source": [
    "# Vector de condiciones iniciales\n",
    "y0 = S0, I0, R0\n",
    "# Integre las ecuaciones SIR en la cuadrícula de tiempo, t. A traves de la funcion odeint()\n",
    "ret = odeint(deriv, y0, t, args=(N, beta, gamma))\n",
    "S, I, R = ret.T # Obtenicion de resultados"
   ]
  },
  {
   "cell_type": "code",
   "execution_count": 9,
   "metadata": {},
   "outputs": [
    {
     "data": {
      "text/html": [
       "<div>\n",
       "<style scoped>\n",
       "    .dataframe tbody tr th:only-of-type {\n",
       "        vertical-align: middle;\n",
       "    }\n",
       "\n",
       "    .dataframe tbody tr th {\n",
       "        vertical-align: top;\n",
       "    }\n",
       "\n",
       "    .dataframe thead th {\n",
       "        text-align: right;\n",
       "    }\n",
       "</style>\n",
       "<table border=\"1\" class=\"dataframe\">\n",
       "  <thead>\n",
       "    <tr style=\"text-align: right;\">\n",
       "      <th></th>\n",
       "      <th>time</th>\n",
       "      <th>susceptible</th>\n",
       "      <th>infected</th>\n",
       "      <th>recovered</th>\n",
       "    </tr>\n",
       "  </thead>\n",
       "  <tbody>\n",
       "    <tr>\n",
       "      <th>0</th>\n",
       "      <td>0</td>\n",
       "      <td>0.999933</td>\n",
       "      <td>0.000067</td>\n",
       "      <td>0.000000</td>\n",
       "    </tr>\n",
       "    <tr>\n",
       "      <th>1</th>\n",
       "      <td>1</td>\n",
       "      <td>0.999904</td>\n",
       "      <td>0.000082</td>\n",
       "      <td>0.000015</td>\n",
       "    </tr>\n",
       "    <tr>\n",
       "      <th>2</th>\n",
       "      <td>2</td>\n",
       "      <td>0.999867</td>\n",
       "      <td>0.000100</td>\n",
       "      <td>0.000033</td>\n",
       "    </tr>\n",
       "    <tr>\n",
       "      <th>3</th>\n",
       "      <td>3</td>\n",
       "      <td>0.999823</td>\n",
       "      <td>0.000122</td>\n",
       "      <td>0.000055</td>\n",
       "    </tr>\n",
       "    <tr>\n",
       "      <th>4</th>\n",
       "      <td>4</td>\n",
       "      <td>0.999769</td>\n",
       "      <td>0.000149</td>\n",
       "      <td>0.000082</td>\n",
       "    </tr>\n",
       "  </tbody>\n",
       "</table>\n",
       "</div>"
      ],
      "text/plain": [
       "   time  susceptible  infected  recovered\n",
       "0     0     0.999933  0.000067   0.000000\n",
       "1     1     0.999904  0.000082   0.000015\n",
       "2     2     0.999867  0.000100   0.000033\n",
       "3     3     0.999823  0.000122   0.000055\n",
       "4     4     0.999769  0.000149   0.000082"
      ]
     },
     "execution_count": 9,
     "metadata": {},
     "output_type": "execute_result"
    }
   ],
   "source": [
    "df = pd.DataFrame({'time':t.astype('int'),'susceptible':S/N,'infected':I/N,'recovered':R/N})\n",
    "df.head(5)"
   ]
  },
  {
   "cell_type": "code",
   "execution_count": 10,
   "metadata": {},
   "outputs": [
    {
     "data": {
      "image/png": "[encoded data removed]",
      "text/plain": [
       "<Figure size 432x288 with 1 Axes>"
      ]
     },
     "metadata": {},
     "output_type": "display_data"
    },
    {
     "name": "stdout",
     "output_type": "stream",
     "text": [
      "2.0\n"
     ]
    }
   ],
   "source": [
    "#  Trace los datos en tres curvas separadas para S (t), I (t) y R (t)\n",
    "fig = plt.figure(facecolor='w')\n",
    "ax = fig.add_subplot(111,  axisbelow=True)\n",
    "ax.plot(t, S, 'b', alpha=0.5, lw=2, label='Sustible de infeccion')\n",
    "ax.plot(t, I, 'r', alpha=0.5, lw=2, label='Infectados')\n",
    "ax.plot(t, R, 'g', alpha=0.5, lw=2, label='Recuperados')\n",
    "ax.set_xlabel('Tiempo en dias')\n",
    "ax.set_ylabel('Numero de Personas')\n",
    "ax.set_ylim(0,N*1.2)\n",
    "ax.yaxis.set_tick_params(length=0)\n",
    "ax.xaxis.set_tick_params(length=0)\n",
    "ax.grid(b=True, which='major', c='w', lw=2, ls='-')\n",
    "legend = ax.legend()\n",
    "legend.get_frame().set_alpha(0.5)\n",
    "for spine in ('top', 'right', 'bottom', 'left'):\n",
    "    ax.spines[spine].set_visible(False)\n",
    "plt.show()\n",
    "\n",
    "Ro = beta/gamma\n",
    "print(Ro)"
   ]
  },
  {
   "cell_type": "markdown",
   "metadata": {},
   "source": [
    "# Predicion del modelo SIR para el Ecuador"
   ]
  },
  {
   "cell_type": "markdown",
   "metadata": {},
   "source": [
    "Implementar solo teniendo en cuenta los casos confirmados"
   ]
  },
  {
   "cell_type": "markdown",
   "metadata": {},
   "source": [
    "Como primer paso creamos nuestras variables iniciales para la simulación, para nuestro caso en IO le decimos que van a existir i0 infectados, en RO 0 recuperados y 10 millones de cuceptibles y le pasamos como parametro Ecuador para que nos realize un filtrado."
   ]
  },
  {
   "cell_type": "code",
   "execution_count": 17,
   "metadata": {},
   "outputs": [],
   "source": [
    "def parse_arguments():\n",
    "    args = easydict({\n",
    "        \"countries\":\"Ecuador\",\n",
    "        \"download_data\":False,\n",
    "        \"start_date\":\"2/29/20\",\n",
    "        \"predict_range\":150,\n",
    "        \"s_0\":100000,\n",
    "        \"i_0\":10,\n",
    "        \"r_0\":0,\n",
    "    })\n",
    "\n",
    "    country_list = [\"Ecuador\"]\n",
    "    return (country_list, args.download_data, args.start_date, args.predict_range, args.s_0, args.i_0, args.r_0)\n"
   ]
  },
  {
   "cell_type": "markdown",
   "metadata": {},
   "source": [
    "Definimos dos métodos para descargar datos reales en tiempo actualizado y métodos de lectura"
   ]
  },
  {
   "cell_type": "code",
   "execution_count": 28,
   "metadata": {},
   "outputs": [],
   "source": [
    "def download_data(url_dictionary):\n",
    "    #Lets download the files\n",
    "    for url_title in url_dictionary.keys():\n",
    "        urllib.request.urlretrieve(url_dictionary[url_title], \"./data/\" + url_title)\n",
    "\n",
    "\n",
    "def load_json(json_file_str):\n",
    "    # Loads  JSON into a dictionary or quits the program if it cannot.\n",
    "    try:\n",
    "        with open(json_file_str, \"r\") as json_file:\n",
    "            json_variable = json.load(json_file)\n",
    "            return json_variable\n",
    "    except Exception:\n",
    "        sys.exit(\"Cannot open JSON file: \" + json_file_str)"
   ]
  },
  {
   "cell_type": "markdown",
   "metadata": {},
   "source": [
    "Creamos una clase de aprendizaje en cual recibimos nuestros datos definidos al inicio y luego cargamos nuestro dataset y le realozamos un filtrado para que solo nos muestre los datos de Ecuados, tambien dentro de aquí vamos a definir nuestra predicción en el cual vamos a utilizar alfa y omega, tambien en este metodo lo vamos a llamar train para realziat un entrenamiento en los datos"
   ]
  },
  {
   "cell_type": "code",
   "execution_count": 18,
   "metadata": {},
   "outputs": [],
   "source": [
    "class Learner(object):\n",
    "    def __init__(self, country, loss, start_date, predict_range,s_0, i_0, r_0):\n",
    "        self.country = country\n",
    "        self.loss = loss\n",
    "        self.start_date = start_date\n",
    "        self.predict_range = predict_range\n",
    "        self.s_0 = s_0\n",
    "        self.i_0 = i_0\n",
    "        self.r_0 = r_0\n",
    "\n",
    "\n",
    "    def load_confirmed(self, country):\n",
    "        df = pd.read_csv('https://raw.githubusercontent.com/CSSEGISandData/COVID-19/master/csse_covid_19_data/csse_covid_19_time_series/time_series_covid19_confirmed_global.csv')\n",
    "        country_df = df[df['Country/Region'] == country]\n",
    "        return country_df.iloc[0].loc[self.start_date:]\n",
    "\n",
    "\n",
    "    def load_recovered(self, country):\n",
    "        df = pd.read_csv('https://raw.githubusercontent.com/CSSEGISandData/COVID-19/master/csse_covid_19_data/csse_covid_19_time_series/time_series_covid19_recovered_global.csv')\n",
    "        country_df = df[df['Country/Region'] == country]\n",
    "        return country_df.iloc[0].loc[self.start_date:]\n",
    "\n",
    "\n",
    "    def load_dead(self, country):\n",
    "        df = pd.read_csv('https://raw.githubusercontent.com/CSSEGISandData/COVID-19/master/csse_covid_19_data/csse_covid_19_time_series/time_series_covid19_deaths_global.csv')\n",
    "        country_df = df[df['Country/Region'] == country]\n",
    "        return country_df.iloc[0].loc[self.start_date:]\n",
    "    \n",
    "\n",
    "    def extend_index(self, index, new_size):\n",
    "        values = index.values\n",
    "        current = datetime.strptime(index[-1], '%m/%d/%y')\n",
    "        while len(values) < new_size:\n",
    "            current = current + timedelta(days=1)\n",
    "            values = np.append(values, datetime.strftime(current, '%m/%d/%y'))\n",
    "        return values\n",
    "\n",
    "    def predict(self, beta, gamma, data, recovered, death, country, s_0, i_0, r_0):\n",
    "        new_index = self.extend_index(data.index, self.predict_range)\n",
    "        size = len(new_index)\n",
    "        def SIR(t, y):\n",
    "            S = y[0]\n",
    "            I = y[1]\n",
    "            R = y[2]\n",
    "            return [-beta*S*I, beta*S*I-gamma*I, gamma*I]\n",
    "        extended_actual = np.concatenate((data.values, [None] * (size - len(data.values))))\n",
    "        extended_recovered = np.concatenate((recovered.values, [None] * (size - len(recovered.values))))\n",
    "        extended_death = np.concatenate((death.values, [None] * (size - len(death.values))))\n",
    "        return new_index, extended_actual, extended_recovered, extended_death, solve_ivp(SIR, [0, size], [s_0,i_0,r_0], t_eval=np.arange(0, size, 1))\n",
    "\n",
    "\n",
    "    def train(self):\n",
    "        recovered = self.load_recovered(self.country)\n",
    "        death = self.load_dead(self.country)\n",
    "        data = (self.load_confirmed(self.country))\n",
    "        \n",
    "        optimal = minimize(loss, [0.001, 0.001], args=(data, recovered, self.s_0, self.i_0, self.r_0), method='L-BFGS-B', bounds=[(0.00000001, 0.4), (0.00000001, 0.4)])\n",
    "        print(optimal)\n",
    "        beta, gamma = optimal.x\n",
    "        new_index, extended_actual, extended_recovered, extended_death, prediction = self.predict(beta, gamma, data, recovered, death, self.country, self.s_0, self.i_0, self.r_0)\n",
    "        df = pd.DataFrame({'Infectados': extended_actual,'Susceptible': prediction.y[0], 'Infected': prediction.y[1], 'Recovered': prediction.y[2]}, index=new_index)\n",
    "        fig, ax = plt.subplots(figsize=(15, 10))\n",
    "        ax.set_title(self.country)\n",
    "        df.plot(ax=ax)\n",
    "        print(f\"country={self.country}, beta={beta:.8f}, gamma={gamma:.8f}, r_0:{(beta/gamma):.8f}\")"
   ]
  },
  {
   "cell_type": "markdown",
   "metadata": {},
   "source": [
    "Y aquí definimos nuestra función para optimizar y obtener mejores resultados"
   ]
  },
  {
   "cell_type": "code",
   "execution_count": 19,
   "metadata": {},
   "outputs": [],
   "source": [
    "def loss(point, data, recovered, s_0, i_0, r_0):\n",
    "    size = len(data)\n",
    "    beta, gamma = point\n",
    "    def SIR(t, y):\n",
    "        S = y[0]\n",
    "        I = y[1]\n",
    "        R = y[2]\n",
    "        return [-beta*S*I, beta*S*I-gamma*I, gamma*I]\n",
    "    solution = solve_ivp(SIR, [0, size], [s_0,i_0,r_0], t_eval=np.arange(0, size, 1), vectorized=True)\n",
    "    alpha = 0.1\n",
    "    return np.sqrt(np.mean((solution.y[1] - data)**2))"
   ]
  },
  {
   "cell_type": "markdown",
   "metadata": {},
   "source": [
    "Luego definimos los parametros que vamos a utilziar en nuestro modelo de simulación"
   ]
  },
  {
   "cell_type": "code",
   "execution_count": 20,
   "metadata": {},
   "outputs": [],
   "source": [
    "countries, download, startdate, predict_range , s_0, i_0, r_0 = parse_arguments()"
   ]
  },
  {
   "cell_type": "code",
   "execution_count": 21,
   "metadata": {},
   "outputs": [],
   "source": [
    "if download:\n",
    "        data_d = load_json(\"./data_url.json\")\n",
    "        download_data(data_d)"
   ]
  },
  {
   "cell_type": "markdown",
   "metadata": {},
   "source": [
    "Como punto final le decimos que recorra el país que ya detrminamos que en este caso sería Ecuador y llamamos a las funciones con el paso de parametros y simualmos nuestro modelo."
   ]
  },
  {
   "cell_type": "code",
   "execution_count": 22,
   "metadata": {},
   "outputs": [
    {
     "name": "stdout",
     "output_type": "stream",
     "text": [
      "      fun: 110737.10755575412\n",
      " hess_inv: <2x2 LbfgsInvHessProduct with dtype=float64>\n",
      "      jac: array([5.31910958e+08, 1.84861381e+07])\n",
      "  message: b'CONVERGENCE: NORM_OF_PROJECTED_GRADIENT_<=_PGTOL'\n",
      "     nfev: 66\n",
      "      nit: 2\n",
      "     njev: 22\n",
      "   status: 0\n",
      "  success: True\n",
      "        x: array([4.52464319e-06, 4.52464319e-06])\n",
      "country=Ecuador, beta=0.00000452, gamma=0.00000452, r_0:1.00000000\n"
     ]
    },
    {
     "data": {
      "image/png": "[encoded data removed]",
      "text/plain": [
       "<Figure size 1080x720 with 1 Axes>"
      ]
     },
     "metadata": {
      "needs_background": "light"
     },
     "output_type": "display_data"
    }
   ],
   "source": [
    "for country in countries:\n",
    "        learner = Learner(country, loss, startdate, predict_range, s_0, i_0, r_0)\n",
    "        learner.train()"
   ]
  },
  {
   "cell_type": "markdown",
   "metadata": {},
   "source": [
    "Incidencia y Prevalencia de nuestro modelo "
   ]
  },
  {
   "cell_type": "markdown",
   "metadata": {},
   "source": [
    "Para este caso nosotros definimos nuestra población, de la misma manera le decimos desde que fecha queremos que nos calcule e imprimos los resultados"
   ]
  },
  {
   "cell_type": "code",
   "execution_count": 27,
   "metadata": {},
   "outputs": [
    {
     "name": "stdout",
     "output_type": "stream",
     "text": [
      "Incidencia:  -4.904992986644132\n",
      "Prevalencia:  19613.135135135133\n"
     ]
    }
   ],
   "source": [
    "poblacion = 18500\n",
    "\n",
    "df3 = pd.read_csv('https://raw.githubusercontent.com/CSSEGISandData/COVID-19/master/csse_covid_19_data/csse_covid_19_time_series/time_series_covid19_confirmed_global.csv')\n",
    "country_df3 = df3[df3['Country/Region'] == \"Ecuador\"]\n",
    "confirmados = country_df3.iloc[0].loc[\"2/29/20\":]\n",
    "\n",
    "ultimo=confirmados[len(confirmados)-1]\n",
    "anteultimo=confirmados[len(confirmados)-2]\n",
    "nuevoscasos=ultimo-anteultimo\n",
    "riesgo= poblacion - ultimo\n",
    "incidencia = (nuevoscasos/riesgo)*pow(10, 3)\n",
    "print('Incidencia: ',incidencia)\n",
    "prevalencia = (ultimo/poblacion)*pow(10, 3) \n",
    "print('Prevalencia: ', prevalencia)\n"
   ]
  },
  {
   "cell_type": "markdown",
   "metadata": {},
   "source": [
    "# Análisis"
   ]
  },
  {
   "cell_type": "markdown",
   "metadata": {},
   "source": [
    "Como se puede observar para nuestra simulación en el primer caso no tomamos en cuenta las personas recuperadas por que los datos que le pasamos solo fue de las personas confirmadas, para realziar la simualción de los recuperados se debería cambiar los parametros y obtenemos una simulación más precisa y eficaz."
   ]
  },
  {
   "cell_type": "markdown",
   "metadata": {},
   "source": [
    "# Conclusión"
   ]
  },
  {
   "cell_type": "markdown",
   "metadata": {},
   "source": [
    "El modelo SIR nos permite obtener resultados y simulaciones de lo que actualmete estamos viviendo y obtener resulados estadisticos que nos permiten ver la magnitud en la que estamos atravesando, también podemos ver el número de contagiados y como día a día van aumentando sucesivamnete, en el cual ya podemos dar una tendencia y observar las curvas de la pandemia."
   ]
  },
  {
   "cell_type": "markdown",
   "metadata": {},
   "source": [
    "# Referencias "
   ]
  },
  {
   "cell_type": "markdown",
   "metadata": {},
   "source": [
    "https://www.agenciasinc.es/Reportajes/Un-modelo-un-teorema-y-teoria-de-juegos-contra-el-coronavirus\n",
    "https://rpubs.com/dsfernandez/422937\n",
    "https://towardsdatascience.com/modelling-the-coronavirus-epidemic-spreading-in-a-city-with-python-babd14d82fa2"
   ]
  }
 ],
 "metadata": {
  "kernelspec": {
   "display_name": "Python 3",
   "language": "python",
   "name": "python3"
  },
  "language_info": {
   "codemirror_mode": {
    "name": "ipython",
    "version": 3
   },
   "file_extension": ".py",
   "mimetype": "text/x-python",
   "name": "python",
   "nbconvert_exporter": "python",
   "pygments_lexer": "ipython3",
   "version": "3.8.3"
  }
 },
 "nbformat": 4,
 "nbformat_minor": 4
}
