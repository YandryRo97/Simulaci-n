{
 "cells": [
  {
   "cell_type": "markdown",
   "metadata": {},
   "source": [
    "# Tarea\n",
    "## Autor: Yandry Romero"
   ]
  },
  {
   "cell_type": "markdown",
   "metadata": {},
   "source": [
    "1. Con los datos de Fifa, organizar a los jugadores de acuerdo al peso en las siguientes escalas y generar un cuadro tipo PIE.\n",
    "    - Debajo 125 lbs.\n",
    "    - 125-150\n",
    "    - 150-175\n",
    "    - 175 o superior"
   ]
  },
  {
   "cell_type": "code",
   "execution_count": 124,
   "metadata": {},
   "outputs": [
    {
     "name": "stdout",
     "output_type": "stream",
     "text": [
      "Librerias Importadas\n"
     ]
    }
   ],
   "source": [
    "import matplotlib.pyplot as plt\n",
    "import numpy as np\n",
    "import pandas as pd\n",
    "print(\"Librerias Importadas\")"
   ]
  },
  {
   "cell_type": "code",
   "execution_count": 125,
   "metadata": {},
   "outputs": [
    {
     "data": {
      "text/html": [
       "<div>\n",
       "<style scoped>\n",
       "    .dataframe tbody tr th:only-of-type {\n",
       "        vertical-align: middle;\n",
       "    }\n",
       "\n",
       "    .dataframe tbody tr th {\n",
       "        vertical-align: top;\n",
       "    }\n",
       "\n",
       "    .dataframe thead th {\n",
       "        text-align: right;\n",
       "    }\n",
       "</style>\n",
       "<table border=\"1\" class=\"dataframe\">\n",
       "  <thead>\n",
       "    <tr style=\"text-align: right;\">\n",
       "      <th></th>\n",
       "      <th>ID</th>\n",
       "      <th>Name</th>\n",
       "      <th>Age</th>\n",
       "      <th>Photo</th>\n",
       "      <th>Nationality</th>\n",
       "      <th>Flag</th>\n",
       "      <th>Overall</th>\n",
       "      <th>Potential</th>\n",
       "      <th>Club</th>\n",
       "      <th>Club Logo</th>\n",
       "      <th>...</th>\n",
       "      <th>SlidingTackle</th>\n",
       "      <th>GKDiving</th>\n",
       "      <th>GKHandling</th>\n",
       "      <th>GKKicking</th>\n",
       "      <th>GKPositioning</th>\n",
       "      <th>GKReflexes</th>\n",
       "      <th>Best Position</th>\n",
       "      <th>Best Overall Rating</th>\n",
       "      <th>Release Clause</th>\n",
       "      <th>DefensiveAwareness</th>\n",
       "    </tr>\n",
       "  </thead>\n",
       "  <tbody>\n",
       "    <tr>\n",
       "      <th>0</th>\n",
       "      <td>176580</td>\n",
       "      <td>L. Suárez</td>\n",
       "      <td>33</td>\n",
       "      <td>https://cdn.sofifa.com/players/176/580/20_60.png</td>\n",
       "      <td>Uruguay</td>\n",
       "      <td>https://cdn.sofifa.com/flags/uy.png</td>\n",
       "      <td>87</td>\n",
       "      <td>87</td>\n",
       "      <td>Atlético Madrid</td>\n",
       "      <td>https://cdn.sofifa.com/teams/240/light_30.png</td>\n",
       "      <td>...</td>\n",
       "      <td>38.0</td>\n",
       "      <td>27.0</td>\n",
       "      <td>25.0</td>\n",
       "      <td>31.0</td>\n",
       "      <td>33.0</td>\n",
       "      <td>37.0</td>\n",
       "      <td>ST</td>\n",
       "      <td>87.0</td>\n",
       "      <td>€64.6M</td>\n",
       "      <td>57.0</td>\n",
       "    </tr>\n",
       "    <tr>\n",
       "      <th>1</th>\n",
       "      <td>192985</td>\n",
       "      <td>K. De Bruyne</td>\n",
       "      <td>29</td>\n",
       "      <td>https://cdn.sofifa.com/players/192/985/20_60.png</td>\n",
       "      <td>Belgium</td>\n",
       "      <td>https://cdn.sofifa.com/flags/be.png</td>\n",
       "      <td>91</td>\n",
       "      <td>91</td>\n",
       "      <td>Manchester City</td>\n",
       "      <td>https://cdn.sofifa.com/teams/10/light_30.png</td>\n",
       "      <td>...</td>\n",
       "      <td>53.0</td>\n",
       "      <td>15.0</td>\n",
       "      <td>13.0</td>\n",
       "      <td>5.0</td>\n",
       "      <td>10.0</td>\n",
       "      <td>13.0</td>\n",
       "      <td>CAM</td>\n",
       "      <td>91.0</td>\n",
       "      <td>€161M</td>\n",
       "      <td>68.0</td>\n",
       "    </tr>\n",
       "    <tr>\n",
       "      <th>2</th>\n",
       "      <td>212198</td>\n",
       "      <td>Bruno Fernandes</td>\n",
       "      <td>25</td>\n",
       "      <td>https://cdn.sofifa.com/players/212/198/20_60.png</td>\n",
       "      <td>Portugal</td>\n",
       "      <td>https://cdn.sofifa.com/flags/pt.png</td>\n",
       "      <td>87</td>\n",
       "      <td>90</td>\n",
       "      <td>Manchester United</td>\n",
       "      <td>https://cdn.sofifa.com/teams/11/light_30.png</td>\n",
       "      <td>...</td>\n",
       "      <td>55.0</td>\n",
       "      <td>12.0</td>\n",
       "      <td>14.0</td>\n",
       "      <td>15.0</td>\n",
       "      <td>8.0</td>\n",
       "      <td>14.0</td>\n",
       "      <td>CAM</td>\n",
       "      <td>88.0</td>\n",
       "      <td>€124.4M</td>\n",
       "      <td>72.0</td>\n",
       "    </tr>\n",
       "    <tr>\n",
       "      <th>3</th>\n",
       "      <td>194765</td>\n",
       "      <td>A. Griezmann</td>\n",
       "      <td>29</td>\n",
       "      <td>https://cdn.sofifa.com/players/194/765/20_60.png</td>\n",
       "      <td>France</td>\n",
       "      <td>https://cdn.sofifa.com/flags/fr.png</td>\n",
       "      <td>87</td>\n",
       "      <td>87</td>\n",
       "      <td>FC Barcelona</td>\n",
       "      <td>https://cdn.sofifa.com/teams/241/light_30.png</td>\n",
       "      <td>...</td>\n",
       "      <td>49.0</td>\n",
       "      <td>14.0</td>\n",
       "      <td>8.0</td>\n",
       "      <td>14.0</td>\n",
       "      <td>13.0</td>\n",
       "      <td>14.0</td>\n",
       "      <td>ST</td>\n",
       "      <td>87.0</td>\n",
       "      <td>€103.5M</td>\n",
       "      <td>59.0</td>\n",
       "    </tr>\n",
       "    <tr>\n",
       "      <th>4</th>\n",
       "      <td>224334</td>\n",
       "      <td>M. Acuña</td>\n",
       "      <td>28</td>\n",
       "      <td>https://cdn.sofifa.com/players/224/334/20_60.png</td>\n",
       "      <td>Argentina</td>\n",
       "      <td>https://cdn.sofifa.com/flags/ar.png</td>\n",
       "      <td>83</td>\n",
       "      <td>83</td>\n",
       "      <td>Sevilla FC</td>\n",
       "      <td>https://cdn.sofifa.com/teams/481/light_30.png</td>\n",
       "      <td>...</td>\n",
       "      <td>79.0</td>\n",
       "      <td>8.0</td>\n",
       "      <td>14.0</td>\n",
       "      <td>13.0</td>\n",
       "      <td>13.0</td>\n",
       "      <td>14.0</td>\n",
       "      <td>LB</td>\n",
       "      <td>83.0</td>\n",
       "      <td>€46.2M</td>\n",
       "      <td>79.0</td>\n",
       "    </tr>\n",
       "  </tbody>\n",
       "</table>\n",
       "<p>5 rows × 65 columns</p>\n",
       "</div>"
      ],
      "text/plain": [
       "       ID              Name  Age  \\\n",
       "0  176580         L. Suárez   33   \n",
       "1  192985      K. De Bruyne   29   \n",
       "2  212198   Bruno Fernandes   25   \n",
       "3  194765      A. Griezmann   29   \n",
       "4  224334          M. Acuña   28   \n",
       "\n",
       "                                              Photo Nationality  \\\n",
       "0  https://cdn.sofifa.com/players/176/580/20_60.png     Uruguay   \n",
       "1  https://cdn.sofifa.com/players/192/985/20_60.png     Belgium   \n",
       "2  https://cdn.sofifa.com/players/212/198/20_60.png    Portugal   \n",
       "3  https://cdn.sofifa.com/players/194/765/20_60.png      France   \n",
       "4  https://cdn.sofifa.com/players/224/334/20_60.png   Argentina   \n",
       "\n",
       "                                  Flag  Overall  Potential               Club  \\\n",
       "0  https://cdn.sofifa.com/flags/uy.png       87         87    Atlético Madrid   \n",
       "1  https://cdn.sofifa.com/flags/be.png       91         91    Manchester City   \n",
       "2  https://cdn.sofifa.com/flags/pt.png       87         90  Manchester United   \n",
       "3  https://cdn.sofifa.com/flags/fr.png       87         87       FC Barcelona   \n",
       "4  https://cdn.sofifa.com/flags/ar.png       83         83         Sevilla FC   \n",
       "\n",
       "                                       Club Logo  ... SlidingTackle GKDiving  \\\n",
       "0  https://cdn.sofifa.com/teams/240/light_30.png  ...          38.0     27.0   \n",
       "1   https://cdn.sofifa.com/teams/10/light_30.png  ...          53.0     15.0   \n",
       "2   https://cdn.sofifa.com/teams/11/light_30.png  ...          55.0     12.0   \n",
       "3  https://cdn.sofifa.com/teams/241/light_30.png  ...          49.0     14.0   \n",
       "4  https://cdn.sofifa.com/teams/481/light_30.png  ...          79.0      8.0   \n",
       "\n",
       "   GKHandling GKKicking  GKPositioning  GKReflexes  Best Position  \\\n",
       "0        25.0      31.0           33.0        37.0             ST   \n",
       "1        13.0       5.0           10.0        13.0            CAM   \n",
       "2        14.0      15.0            8.0        14.0            CAM   \n",
       "3         8.0      14.0           13.0        14.0             ST   \n",
       "4        14.0      13.0           13.0        14.0             LB   \n",
       "\n",
       "  Best Overall Rating Release Clause DefensiveAwareness  \n",
       "0                87.0         €64.6M               57.0  \n",
       "1                91.0          €161M               68.0  \n",
       "2                88.0        €124.4M               72.0  \n",
       "3                87.0        €103.5M               59.0  \n",
       "4                83.0         €46.2M               79.0  \n",
       "\n",
       "[5 rows x 65 columns]"
      ]
     },
     "execution_count": 125,
     "metadata": {},
     "output_type": "execute_result"
    }
   ],
   "source": [
    "df = pd.read_csv('FIFA21_official_data.csv')\n",
    "df.head()"
   ]
  },
  {
   "cell_type": "code",
   "execution_count": 126,
   "metadata": {},
   "outputs": [
    {
     "name": "stdout",
     "output_type": "stream",
     "text": [
      "<class 'pandas.core.frame.DataFrame'>\n",
      "RangeIndex: 17108 entries, 0 to 17107\n",
      "Data columns (total 65 columns):\n",
      " #   Column                    Non-Null Count  Dtype  \n",
      "---  ------                    --------------  -----  \n",
      " 0   ID                        17108 non-null  int64  \n",
      " 1   Name                      17108 non-null  object \n",
      " 2   Age                       17108 non-null  int64  \n",
      " 3   Photo                     17108 non-null  object \n",
      " 4   Nationality               17108 non-null  object \n",
      " 5   Flag                      17108 non-null  object \n",
      " 6   Overall                   17108 non-null  int64  \n",
      " 7   Potential                 17108 non-null  int64  \n",
      " 8   Club                      16783 non-null  object \n",
      " 9   Club Logo                 17108 non-null  object \n",
      " 10  Value                     17108 non-null  object \n",
      " 11  Wage                      17108 non-null  object \n",
      " 12  Special                   17108 non-null  int64  \n",
      " 13  Preferred Foot            17108 non-null  object \n",
      " 14  International Reputation  17108 non-null  float64\n",
      " 15  Weak Foot                 17108 non-null  float64\n",
      " 16  Skill Moves               17108 non-null  float64\n",
      " 17  Work Rate                 17108 non-null  object \n",
      " 18  Body Type                 17083 non-null  object \n",
      " 19  Real Face                 17083 non-null  object \n",
      " 20  Position                  17088 non-null  object \n",
      " 21  Jersey Number             17088 non-null  float64\n",
      " 22  Joined                    15659 non-null  object \n",
      " 23  Loaned From               922 non-null    object \n",
      " 24  Contract Valid Until      16612 non-null  object \n",
      " 25  Height                    17108 non-null  object \n",
      " 26  Weight                    17108 non-null  object \n",
      " 27  Crossing                  17108 non-null  float64\n",
      " 28  Finishing                 17108 non-null  float64\n",
      " 29  HeadingAccuracy           17108 non-null  float64\n",
      " 30  ShortPassing              17108 non-null  float64\n",
      " 31  Volleys                   17069 non-null  float64\n",
      " 32  Dribbling                 17108 non-null  float64\n",
      " 33  Curve                     17069 non-null  float64\n",
      " 34  FKAccuracy                17108 non-null  float64\n",
      " 35  LongPassing               17108 non-null  float64\n",
      " 36  BallControl               17108 non-null  float64\n",
      " 37  Acceleration              17108 non-null  float64\n",
      " 38  SprintSpeed               17108 non-null  float64\n",
      " 39  Agility                   17069 non-null  float64\n",
      " 40  Reactions                 17108 non-null  float64\n",
      " 41  Balance                   17069 non-null  float64\n",
      " 42  ShotPower                 17108 non-null  float64\n",
      " 43  Jumping                   17069 non-null  float64\n",
      " 44  Stamina                   17108 non-null  float64\n",
      " 45  Strength                  17108 non-null  float64\n",
      " 46  LongShots                 17108 non-null  float64\n",
      " 47  Aggression                17108 non-null  float64\n",
      " 48  Interceptions             17105 non-null  float64\n",
      " 49  Positioning               17105 non-null  float64\n",
      " 50  Vision                    17069 non-null  float64\n",
      " 51  Penalties                 17108 non-null  float64\n",
      " 52  Composure                 16821 non-null  float64\n",
      " 53  Marking                   942 non-null    float64\n",
      " 54  StandingTackle            17108 non-null  float64\n",
      " 55  SlidingTackle             17069 non-null  float64\n",
      " 56  GKDiving                  17108 non-null  float64\n",
      " 57  GKHandling                17108 non-null  float64\n",
      " 58  GKKicking                 17108 non-null  float64\n",
      " 59  GKPositioning             17108 non-null  float64\n",
      " 60  GKReflexes                17108 non-null  float64\n",
      " 61  Best Position             17108 non-null  object \n",
      " 62  Best Overall Rating       17108 non-null  float64\n",
      " 63  Release Clause            15479 non-null  object \n",
      " 64  DefensiveAwareness        16166 non-null  float64\n",
      "dtypes: float64(40), int64(5), object(20)\n",
      "memory usage: 8.5+ MB\n"
     ]
    }
   ],
   "source": [
    "df.info()"
   ]
  },
  {
   "cell_type": "code",
   "execution_count": 127,
   "metadata": {},
   "outputs": [
    {
     "data": {
      "text/plain": [
       "0        190lbs\n",
       "1        154lbs\n",
       "2        152lbs\n",
       "3        161lbs\n",
       "4        152lbs\n",
       "          ...  \n",
       "17103    176lbs\n",
       "17104    187lbs\n",
       "17105    176lbs\n",
       "17106    168lbs\n",
       "17107    172lbs\n",
       "Name: Weight, Length: 17108, dtype: object"
      ]
     },
     "execution_count": 127,
     "metadata": {},
     "output_type": "execute_result"
    }
   ],
   "source": [
    "df['Weight']"
   ]
  },
  {
   "cell_type": "code",
   "execution_count": 134,
   "metadata": {},
   "outputs": [],
   "source": [
    "bajo=list()\n",
    "for i in df['Weight']:\n",
    "    try:\n",
    "        if int(i[0:3])<125:\n",
    "            bajo.append(i[0:3])\n",
    "    except:\n",
    "        print(\"Sin peso\")"
   ]
  },
  {
   "cell_type": "code",
   "execution_count": 135,
   "metadata": {},
   "outputs": [],
   "source": [
    "medio = list()\n",
    "for i in df['Weight']:\n",
    "    try:\n",
    "        if int(i[0:3])>=125 and int(i[0:3])<=150 :\n",
    "            medio.append(i[0:3])\n",
    "    except:\n",
    "        print(\"Sin peso\")"
   ]
  },
  {
   "cell_type": "code",
   "execution_count": 138,
   "metadata": {},
   "outputs": [],
   "source": [
    "alto = list()\n",
    "for i in df['Weight']:\n",
    "    try:\n",
    "        if int(i[0:3])>=150 and int(i[0:3])<=175 :\n",
    "            alto.append(i[0:3])\n",
    "    except:\n",
    "        print(\"Sin peso\")"
   ]
  },
  {
   "cell_type": "code",
   "execution_count": 140,
   "metadata": {},
   "outputs": [],
   "source": [
    "muyAlto = list()\n",
    "for i in df['Weight']:\n",
    "    try:\n",
    "        if int(i[0:3])>=175 :\n",
    "            muyAlto.append(i[0:3])\n",
    "    except:\n",
    "        print(\"Sin peso\")"
   ]
  },
  {
   "cell_type": "code",
   "execution_count": 141,
   "metadata": {},
   "outputs": [
    {
     "data": {
      "image/png": "[encoded data removed]",
      "text/plain": [
       "<Figure size 432x432 with 1 Axes>"
      ]
     },
     "metadata": {},
     "output_type": "display_data"
    }
   ],
   "source": [
    "# Generar un grafico del peso de los jugadores\n",
    "\n",
    "plt.figure(figsize=(6,6))\n",
    "\n",
    "etiquetas = ['Debajo 125 lbs', '125-150 lbs', '150-175 lbs','175 o superior']\n",
    "colores = ['#abcdef', '#aabbcc']\n",
    "plt.pie([len(bajo), len(medio), len(alto), len(muyAlto)], labels=etiquetas, colors=colores, autopct='%.2f %%')\n",
    "plt.title('Jugadores de acuerdo al Peso en lbs')\n",
    "plt.show()"
   ]
  },
  {
   "cell_type": "markdown",
   "metadata": {},
   "source": [
    "2. Generar un gráfico de barras (histograma) de acuerdo a su habilidad (Overall) en base a los siguientes segmentos contando el número de jugadores:\n",
    "\n",
    "    - 40\n",
    "    - 50\n",
    "    - 60\n",
    "    - 70\n",
    "    - 80\n",
    "    - 90\n",
    "    - 100"
   ]
  },
  {
   "cell_type": "code",
   "execution_count": 142,
   "metadata": {},
   "outputs": [
    {
     "data": {
      "text/plain": [
       "0        87\n",
       "1        91\n",
       "2        87\n",
       "3        87\n",
       "4        83\n",
       "         ..\n",
       "17103    50\n",
       "17104    51\n",
       "17105    51\n",
       "17106    49\n",
       "17107    47\n",
       "Name: Overall, Length: 17108, dtype: int64"
      ]
     },
     "execution_count": 142,
     "metadata": {},
     "output_type": "execute_result"
    }
   ],
   "source": [
    "df['Overall']"
   ]
  },
  {
   "cell_type": "code",
   "execution_count": 181,
   "metadata": {},
   "outputs": [],
   "source": [
    "habilidad40 = 0\n",
    "habilidad50= 0\n",
    "habilidad60= 0\n",
    "habilidad70= 0\n",
    "habilidad80= 0\n",
    "habilidad90= 0\n",
    "habilidad100= 0\n",
    "for i in df['Overall']: \n",
    "    try:\n",
    "        if i==40:\n",
    "            habilidad40=habilidad40+1\n",
    "        if i==50:\n",
    "            habilidad50=habilidad50+1\n",
    "        if i==60:\n",
    "            habilidad60=habilidad60+1\n",
    "        if i==70:\n",
    "            habilidad70=habilidad70+1\n",
    "        if i==80:\n",
    "            habilidad80=habilidad80+1\n",
    "        if i==90:\n",
    "            habilidad90=habilidad90+1\n",
    "        if i==100:\n",
    "            habilidad100=habilidad100+1     \n",
    "    except:\n",
    "        print('No hay datos')"
   ]
  },
  {
   "cell_type": "code",
   "execution_count": 191,
   "metadata": {},
   "outputs": [
    {
     "data": {
      "image/png": "[encoded data removed]",
      "text/plain": [
       "<Figure size 648x432 with 1 Axes>"
      ]
     },
     "metadata": {
      "needs_background": "light"
     },
     "output_type": "display_data"
    }
   ],
   "source": [
    "import matplotlib\n",
    "import matplotlib.pyplot as plt\n",
    "import numpy as np\n",
    " \n",
    "texto = ['40', '50', '60', '70', '80', '90', '100']\n",
    "habilidad = [habilidad40, habilidad50, habilidad60, habilidad70, habilidad80,habilidad90,habilidad100]\n",
    "\n",
    "y_pos = np.arange(len(texto))\n",
    "plt.figure(figsize=(9,6))\n",
    "plt.barh(y_pos, habilidad, align='center', alpha=0.5)\n",
    "plt.yticks(y_pos, texto)\n",
    "plt.title('Gráfico de barras (histograma) de acuerdo a su habilidad (Overall)')\n",
    "plt.show()"
   ]
  },
  {
   "cell_type": "markdown",
   "metadata": {},
   "source": [
    "## Referencias\n",
    "https://www.kaggle.com/bryanb/fifa-player-stats-database?select=FIFA21_official_data.csv"
   ]
  }
 ],
 "metadata": {
  "kernelspec": {
   "display_name": "Python 3",
   "language": "python",
   "name": "python3"
  },
  "language_info": {
   "codemirror_mode": {
    "name": "ipython",
    "version": 3
   },
   "file_extension": ".py",
   "mimetype": "text/x-python",
   "name": "python",
   "nbconvert_exporter": "python",
   "pygments_lexer": "ipython3",
   "version": "3.8.3"
  }
 },
 "nbformat": 4,
 "nbformat_minor": 4
}
