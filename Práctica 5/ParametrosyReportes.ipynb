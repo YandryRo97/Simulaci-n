{
 "cells": [
  {
   "cell_type": "markdown",
   "metadata": {},
   "source": [
    "# Universidad Politécnica Salesiana\n",
    "## Autor: Yandry Romero\n",
    "## Investigar como pasar parametros y generar reportes utilizando Notebook"
   ]
  },
  {
   "cell_type": "markdown",
   "metadata": {},
   "source": [
    "Papermill es una herramienta que nos permite parametrizar y ejecutar cuadernos. Transforma su cuaderno Jupyter en una herramienta de flujo de trabajo de datos, ejecutando cada celda secuencialmente, sin tener que abrir JupyterLab (o Notebook). Intenta llenar el vacío de la automatización y el registro al ofrecernos una forma de ejecutar cuadernos como archivos y también al generar un informe para cada ejecución.\n",
    "\n",
    "Papermill te permite:\n",
    "\n",
    "    - Parametrizar cuadernos\n",
    "\n",
    "    - Ejecutar cuadernos"
   ]
  },
  {
   "cell_type": "markdown",
   "metadata": {},
   "source": [
    "#   Configuración de nuestro entorno de desarrollo"
   ]
  },
  {
   "cell_type": "markdown",
   "metadata": {},
   "source": [
    "Comenzaremos creando un entorno de desarrollo usando Conda (1, 2) e instalando JupyterLab y otras bibliotecas utilizadas en el análisis (3) .\n",
    "\n",
    "# 1) Cree un entorno\n",
    " conda conda create -n papermill python = 3.7\n",
    "# 2)Actívalo \n",
    "conda activa la papelera\n",
    "# 3) Instale las bibliotecas usando pip (o conda)\n",
    " pip install papermill pyowm jupyterlab pandas seaborn boto3 pdfkit"
   ]
  },
  {
   "cell_type": "markdown",
   "metadata": {},
   "source": [
    "Después de instalar Papermill podemos obtener más información a través del terminal.\n",
    "\n",
    "# 4) Papermill Documentation\n",
    "papermill -h"
   ]
  },
  {
   "cell_type": "markdown",
   "metadata": {},
   "source": [
    "# Instalación del núcleo de Jupyter"
   ]
  },
  {
   "cell_type": "markdown",
   "metadata": {},
   "source": [
    "Aunque los cuadernos de Jupyter son famosos por ejecutar Python, podemos usar prácticamente cualquier lenguaje de programación instalando diferentes núcleos . Con un kernel específico, podemos ejecutar nuestros cuadernos en entornos definidos con Papermill, evitando problemas con bibliotecas faltantes (5) .\n",
    "\n",
    "# 5) Instale el kernel de Jupyter para el entorno de la fábrica de papel\n",
    "\n",
    " pip install ipykernel \n",
    "ipython kernel install --user --name = papermill-tutorial"
   ]
  },
  {
   "cell_type": "markdown",
   "metadata": {},
   "source": [
    "# Crear un flujo de trabajo\n",
    "Vamos a utilizar un Jupyter Notebook para realizar análisis de datos de pronóstico del tiempo. La idea es crear un flujo de trabajo sencillo para obtener datos para una ciudad específica usando una API de Python llamada PyOWM , ejecutar la disputa de datos, crear algunos gráficos y organizar la información en un informe en PDF."
   ]
  },
  {
   "cell_type": "markdown",
   "metadata": {},
   "source": [
    "## Trabajar con la API meteorológica de PyOWM\n",
    "\n",
    "Como se describe en la página principal de la biblioteca, \"PyOWM es una biblioteca contenedora de Python cliente para las API web de OpenWeatherMap\". Facilita el acceso a los datos meteorológicos al ofrecer un \"modelo de objeto simple\". El único requisito para usar esta biblioteca es una clave API que está disponible de forma gratuita en el enlace de OpenWeather ."
   ]
  },
  {
   "cell_type": "markdown",
   "metadata": {},
   "source": [
    "## Flujo de trabajo, parte 1: obtención de datos meteorológicos con la API de PyOWM\n",
    "\n",
    "La primera parte del flujo de trabajo consiste en usar la biblioteca PyOWM para obtener información sobre un archivo predefinido city(Sao Paulo, BR en el cuaderno original). Iteramos sobre el forecastobjeto, organizando la información devuelta en DataFrame para hacernos la vida más fácil en los siguientes pasos."
   ]
  },
  {
   "cell_type": "code",
   "execution_count": 1,
   "metadata": {},
   "outputs": [],
   "source": [
    "# import libraries\n",
    "import pyowm\n",
    "import pandas as pd\n",
    "import seaborn as sns\n",
    "import matplotlib.pyplot as plt\n",
    "import pdfkit"
   ]
  },
  {
   "cell_type": "code",
   "execution_count": 2,
   "metadata": {},
   "outputs": [],
   "source": [
    "# Set API key\n",
    "owm = pyowm.OWM('bb453ffed6ecf2076bb80c0da53e4373')"
   ]
  },
  {
   "cell_type": "code",
   "execution_count": 3,
   "metadata": {
    "tags": [
     "parameters"
    ]
   },
   "outputs": [],
   "source": [
    "# Define the default parameters\n",
    "city = 'Quito,EC'"
   ]
  },
  {
   "cell_type": "code",
   "execution_count": 4,
   "metadata": {},
   "outputs": [
    {
     "ename": "AttributeError",
     "evalue": "'OWM' object has no attribute 'three_hours_forecast'",
     "output_type": "error",
     "traceback": [
      "\u001b[1;31m---------------------------------------------------------------------------\u001b[0m",
      "\u001b[1;31mAttributeError\u001b[0m                            Traceback (most recent call last)",
      "\u001b[1;32m<ipython-input-4-b0ceaa229ce6>\u001b[0m in \u001b[0;36m<module>\u001b[1;34m\u001b[0m\n\u001b[0;32m      1\u001b[0m \u001b[1;31m# Instantiate forecast object and fetch weather information about city\u001b[0m\u001b[1;33m\u001b[0m\u001b[1;33m\u001b[0m\u001b[1;33m\u001b[0m\u001b[0m\n\u001b[1;32m----> 2\u001b[1;33m \u001b[0mfc\u001b[0m \u001b[1;33m=\u001b[0m \u001b[0mowm\u001b[0m\u001b[1;33m.\u001b[0m\u001b[0mthree_hours_forecast\u001b[0m\u001b[1;33m(\u001b[0m\u001b[0mcity\u001b[0m\u001b[1;33m)\u001b[0m\u001b[1;33m\u001b[0m\u001b[1;33m\u001b[0m\u001b[0m\n\u001b[0m\u001b[0;32m      3\u001b[0m \u001b[0mforecast\u001b[0m \u001b[1;33m=\u001b[0m \u001b[0mfc\u001b[0m\u001b[1;33m.\u001b[0m\u001b[0mget_forecast\u001b[0m\u001b[1;33m(\u001b[0m\u001b[1;33m)\u001b[0m\u001b[1;33m\u001b[0m\u001b[1;33m\u001b[0m\u001b[0m\n",
      "\u001b[1;31mAttributeError\u001b[0m: 'OWM' object has no attribute 'three_hours_forecast'"
     ]
    }
   ],
   "source": [
    "# Instantiate forecast object and fetch weather information about city\n",
    "fc = owm.three_hours_forecast(city)\n",
    "forecast = fc.get_forecast()"
   ]
  },
  {
   "cell_type": "code",
   "execution_count": null,
   "metadata": {},
   "outputs": [],
   "source": [
    "# Create a dictionary to organize the forecast data for the city of interest\n",
    "dict_forecast = {\n",
    "    'datetime':[],\n",
    "    'clouds':[],\n",
    "    'humidity':[],\n",
    "    'temp':[],\n",
    "    'temp_max':[],\n",
    "    'temp_min':[],\n",
    "    'detailed_status':[],\n",
    "    'icon_url':[],\n",
    "    'rain_vol':[]\n",
    "}"
   ]
  },
  {
   "cell_type": "code",
   "execution_count": null,
   "metadata": {},
   "outputs": [],
   "source": [
    "#Itereate over forecast object acessing the weather features\n",
    "for weather in forecast:\n",
    "    dict_forecast['datetime'].append(str(weather.get_reference_time(timeformat='iso')))\n",
    "    dict_forecast['clouds'].append(weather.get_clouds())\n",
    "    dict_forecast['humidity'].append(weather.get_humidity())\n",
    "    dict_forecast['temp'].append(weather.get_temperature(unit='celsius').get('temp'))\n",
    "    dict_forecast['temp_max'].append(weather.get_temperature(unit='celsius').get('temp_max'))\n",
    "    dict_forecast['temp_min'].append(weather.get_temperature(unit='celsius').get('temp_min'))\n",
    "    \n",
    "    dict_forecast['detailed_status'].append(weather.get_detailed_status())\n",
    "    dict_forecast['icon_url'].append(weather.get_weather_icon_url())\n",
    "    if '3h' in weather.get_rain().keys():\n",
    "        dict_forecast['rain_vol'].append(weather.get_rain().get('3h'))\n",
    "    else:\n",
    "        dict_forecast['rain_vol'].append(0)"
   ]
  },
  {
   "cell_type": "code",
   "execution_count": null,
   "metadata": {},
   "outputs": [],
   "source": [
    "# Create Dataframe from dictionary\n",
    "df = pd.DataFrame.from_dict(dict_forecast)\n",
    "df.head()"
   ]
  },
  {
   "cell_type": "code",
   "execution_count": null,
   "metadata": {},
   "outputs": [],
   "source": [
    "# Plotting the temperature for the next 5 days\n",
    "fig = plt.figure()\n",
    "sns_plot = sns.lineplot(data=df_temp, style=\"event\",markers=True, dashes=False)\n",
    "sns_plot.set_title(f'Temperature forecast for the next 5 days', fontsize=20)\n",
    "sns_plot.set_xlabel('Date', fontsize=14)\n",
    "sns_plot.set_ylabel('Temperature Celsius', fontsize=14)\n",
    "sns_plot.set_xticklabels(df_temp.index, rotation=20)\n",
    "sns_plot.grid(True)\n",
    "\n",
    "sns_plot.legend(labels=['Min. Temperature', 'Max Temperature', 'Average Temperature'])\n",
    "fig.set_size_inches(12, 6)\n",
    "\n",
    "temperature_plot = f\"{city.split(',')[0].replace(' ','_')}_temperature.png\"\n",
    "sns_plot.figure.savefig(temperature_plot, \n",
    "                  dpi=300, facecolor='w', \n",
    "                  orientation='portrait',\n",
    "                  bbox_inches='tight')"
   ]
  },
  {
   "cell_type": "code",
   "execution_count": null,
   "metadata": {},
   "outputs": [],
   "source": [
    "# Create a Dataframe with total expected volume for rain on each day\n",
    "df_rain_per_day = df.resample('D', on='datetime').sum()[['rain_vol']]\n",
    "df_rain_per_day.index = df_rain_per_day.index.date"
   ]
  },
  {
   "cell_type": "code",
   "execution_count": null,
   "metadata": {},
   "outputs": [],
   "source": [
    "fig = plt.figure()\n",
    "# Lineplot for humidity and clouds\n",
    "ax1 = fig.add_subplot(211)\n",
    "ax1 = sns.lineplot(data=df_mean[['clouds', 'humidity']], markers=True, dashes=False)\n",
    "ax1.set_xticks([])\n",
    "ax1.set_title(f'Expected humidity and rain volume for the next 5 days', fontsize=20)\n",
    "ax1.set_ylabel('Percentage', fontsize=14)\n",
    "ax1.grid(True)\n",
    "\n",
    "# Barplot for total rain per day\n",
    "ax2 = fig.add_subplot(212)\n",
    "ax2 = sns.barplot(x=df_rain_per_day.index, y='rain_vol', \n",
    "                  data=df_rain_per_day,\n",
    "                  palette=\"Blues_d\")\n",
    "ax2.set_xticklabels(df_temp.index, rotation=30)\n",
    "ax2.set_ylabel('Total Rain Volume in mm', fontsize=14)\n",
    "ax2.set_xlabel('Date', fontsize=14)\n",
    "fig.set_size_inches(12, 6)\n",
    "\n",
    "rain_humidity_plot = f\"{city.split(',')[0].replace(' ','_')}_rain_humidity.png\"\n",
    "fig.savefig(rain_humidity_plot, \n",
    "              dpi=300, facecolor='w', \n",
    "              orientation='portrait',\n",
    "              bbox_inches='tight')"
   ]
  },
  {
   "cell_type": "markdown",
   "metadata": {},
   "source": [
    "# Creación de un informe meteorológico en PDF\n",
    "\n",
    "Vamos a utilizar el pdfkit de la biblioteca para convertir nuestra plantilla HTML en un archivo pdf."
   ]
  },
  {
   "cell_type": "code",
   "execution_count": null,
   "metadata": {},
   "outputs": [],
   "source": [
    "# Defining start and end date for the analysis\n",
    "today = str(df_mean.index.min()).replace('-', '/')\n",
    "last_day = str(df_mean.index.max()).replace('-', '/')"
   ]
  },
  {
   "cell_type": "code",
   "execution_count": null,
   "metadata": {},
   "outputs": [],
   "source": [
    "# HTML template to add our data and plots\n",
    "report_template = f'''\n",
    "<!DOCTYPE html>\n",
    "    <html>\n",
    "      <head>\n",
    "        <meta charset='utf-8'>\n",
    "        <title>Weather Forecast with PyOWM</title>\n",
    "        <link rel='stylesheet' href='report.css'>\n",
    "          <style>\n",
    "          h1 {{\n",
    "          font-family: Arial;\n",
    "          font-size: 300%;\n",
    "          }}\n",
    "          h2 {{\n",
    "          font-family: Arial;\n",
    "          font-size: 200%;\n",
    "          }}\n",
    "          @page {{\n",
    "          size: 7in 9.25in;\n",
    "          margin: 27mm 16mm 27mm 16mm;\n",
    "          }}\n",
    "          </style>                       \n",
    "      </head>\n",
    "      <h1 align=\"center\">Weather forecast for {city}</h1>\n",
    "      <h2 align=\"center\">Initial date: {today}</h2>\n",
    "      <h2 align=\"center\">Final date: {last_day}</h2>\n",
    "        \n",
    "      <figure>\n",
    "        <img src=\"{temperature_plot}\" width=\"1200\" height=\"600\">\n",
    "      </figure>\n",
    "      <figure>\n",
    "        <img src=\"{rain_humidity_plot}\" width=\"1200\" height=\"600\">\n",
    "      </figure>      \n",
    "    </html>\n",
    "'''"
   ]
  },
  {
   "cell_type": "code",
   "execution_count": null,
   "metadata": {},
   "outputs": [],
   "source": [
    "# Save HTML string to file\n",
    "html_report = f\"{city.split(',')[0].replace(' ','_')}_report.html\"\n",
    "with open(html_report, \"w\") as r:\n",
    "    r.write(report_template)"
   ]
  },
  {
   "cell_type": "code",
   "execution_count": null,
   "metadata": {},
   "outputs": [],
   "source": [
    "# Use pdfkit to create the pdf report from the \n",
    "pdfkit.from_file(html_report, f\"{city.split(',')[0].replace(' ', '_')}_weather_report_for.pdf\")"
   ]
  },
  {
   "cell_type": "markdown",
   "metadata": {},
   "source": [
    "# Ejecución de Papermill\n",
    "\n",
    "# 6) Para ejecutar Papermill desde la terminal\n",
    " papermill weather_forecast_using_pyowm.ipynb \\ \n",
    "          weather_forecast_using_pyowm_output.ipynb \\ \n",
    "          -p city 'Sao Paulo, BR' \\ \n",
    "          -k papermill-tutorial"
   ]
  },
  {
   "cell_type": "code",
   "execution_count": null,
   "metadata": {},
   "outputs": [],
   "source": []
  }
 ],
 "metadata": {
  "celltoolbar": "Tags",
  "kernelspec": {
   "display_name": "Python 3",
   "language": "python",
   "name": "python3"
  },
  "language_info": {
   "codemirror_mode": {
    "name": "ipython",
    "version": 3
   },
   "file_extension": ".py",
   "mimetype": "text/x-python",
   "name": "python",
   "nbconvert_exporter": "python",
   "pygments_lexer": "ipython3",
   "version": "3.8.3"
  }
 },
 "nbformat": 4,
 "nbformat_minor": 4
}
