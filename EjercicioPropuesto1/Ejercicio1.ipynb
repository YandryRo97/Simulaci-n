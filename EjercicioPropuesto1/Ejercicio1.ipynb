{
 "cells": [
  {
   "cell_type": "markdown",
   "id": "2e7f05bd",
   "metadata": {},
   "source": [
    "# Universidad Politécnica Salesiana\n",
    "\n",
    "## Autor: Yandry Romero\n",
    "\n",
    "## Ejercicio propuesto"
   ]
  },
  {
   "cell_type": "markdown",
   "id": "3aa3f2db",
   "metadata": {},
   "source": [
    "Realizar un bot que permita realizar un login sobre una red social y obtener los ultimos post/publicaciones.\n",
    "\n",
    "* Utilizar Facebook"
   ]
  },
  {
   "cell_type": "code",
   "execution_count": 1,
   "id": "bb29a9a1",
   "metadata": {},
   "outputs": [],
   "source": [
    "from selenium import webdriver\n",
    "from selenium.webdriver.chrome.options import Options\n",
    "from selenium.webdriver.common.by import By\n",
    "import time"
   ]
  },
  {
   "cell_type": "code",
   "execution_count": 33,
   "id": "473286de",
   "metadata": {},
   "outputs": [
    {
     "name": "stderr",
     "output_type": "stream",
     "text": [
      "<ipython-input-33-84c71c4c6f7c>:7: DeprecationWarning: use options instead of chrome_options\n",
      "  driver = webdriver.Chrome(executable_path=CHROMEDRIVEPATH,chrome_options = chrome_options)\n"
     ]
    },
    {
     "name": "stdout",
     "output_type": "stream",
     "text": [
      "Facebook - Inicia sesión o regístrate\n",
      "Historias\n",
      "Crea una historia\n",
      "Guido Asanza\n",
      "Ana Paula Alvarado Davila\n",
      "Lili Katyuska\n",
      "Dario Loaiza\n",
      "Crear una publicación\n",
      "¿Qué estás pensando, Yandry?\n",
      "Video en vivo\n",
      "Foto/video\n",
      "Sentimiento/actividad\n",
      "Crear sala\n",
      "Activo\n",
      "Activo\n",
      "Activo\n",
      "Activo\n",
      "Publicaciones de la sección de noticias\n",
      "El Chiringuito TV \n",
      "4\n",
      "t\n",
      " S\n",
      "p\n",
      "h\n",
      "o\n",
      "n\n",
      "c\n",
      "s\n",
      "a\n",
      "o\n",
      "a\n",
      "r\n",
      "e\n",
      "d\n",
      "S\n",
      "  ·\n",
      " OFICIAL |  ACHRAF HAKIMI es oficialmente nuevo JUGADOR del PSG.\n",
      " El equipo parisino pagará 70 MILLONES por el marroquí que FIRMA hasta 2026.\n",
      " … Ver más\n",
      "9,3 mil\n",
      "Anthony Joel y 9,3 mil personas más\n",
      "351 comentarios\n",
      "370 veces compartido\n",
      "Me gusta\n",
      "Comentar\n",
      "Compartir\n",
      "Crear una publicación\n",
      "¿Qué estás pensando, Yandry?\n",
      "Video en vivo\n",
      "Foto/video\n",
      "Sentimiento/actividad\n",
      "Crear sala\n",
      "Activo\n",
      "Activo\n",
      "Activo\n",
      "Activo\n",
      "Publicaciones de la sección de noticias\n",
      "El Chiringuito TV \n",
      "4\n",
      "t\n",
      " S\n",
      "p\n",
      "h\n",
      "o\n",
      "n\n",
      "c\n",
      "s\n",
      "a\n",
      "o\n",
      "a\n",
      "r\n",
      "e\n",
      "d\n",
      "S\n",
      "  ·\n",
      " OFICIAL |  ACHRAF HAKIMI es oficialmente nuevo JUGADOR del PSG.\n",
      " El equipo parisino pagará 70 MILLONES por el marroquí que FIRMA hasta 2026.\n",
      " … Ver más\n",
      "9,3 mil\n",
      "Anthony Joel y 9,3 mil personas más\n",
      "351 comentarios\n",
      "370 veces compartido\n",
      "Me gusta\n",
      "Comentar\n",
      "Compartir\n"
     ]
    }
   ],
   "source": [
    "CHROMEDRIVEPATH = 'C:/Users/USUARIO/Downloads/chromedriver'\n",
    "WINDOW_SIZE = '1366,768'\n",
    "chrome_options = Options()\n",
    "chrome_options.add_argument('--window-size=%s'%WINDOW_SIZE)\n",
    "\n",
    "\n",
    "driver = webdriver.Chrome(executable_path=CHROMEDRIVEPATH,chrome_options = chrome_options)\n",
    "driver.get('https://www.facebook.com/')\n",
    "print(driver.title)\n",
    "\n",
    "username = driver.find_element_by_id( \"email\" )\n",
    "password = driver.find_element_by_id( \"pass\" )\n",
    "submit = driver.find_element_by_name( \"login\" )\n",
    "\n",
    "username.send_keys( \"yandry_1997@hotmail.com\" )\n",
    "password.send_keys( \" \" )\n",
    "\n",
    "submit.click()\n",
    " \n",
    "wait=driver.implicitly_wait(5) # seconds\n",
    "\n",
    "\n",
    "listado_resultado = driver.find_elements_by_class_name('d2edcug0')\n",
    "\n",
    "for item in listado_resultado:\n",
    "    print(item.text)\n",
    "    \n",
    "driver.close()"
   ]
  },
  {
   "cell_type": "code",
   "execution_count": null,
   "id": "45515b95",
   "metadata": {},
   "outputs": [],
   "source": []
  }
 ],
 "metadata": {
  "kernelspec": {
   "display_name": "Python 3",
   "language": "python",
   "name": "python3"
  },
  "language_info": {
   "codemirror_mode": {
    "name": "ipython",
    "version": 3
   },
   "file_extension": ".py",
   "mimetype": "text/x-python",
   "name": "python",
   "nbconvert_exporter": "python",
   "pygments_lexer": "ipython3",
   "version": "3.8.3"
  }
 },
 "nbformat": 4,
 "nbformat_minor": 5
}
