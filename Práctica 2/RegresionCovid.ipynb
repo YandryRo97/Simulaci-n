{
 "cells": [
  {
   "cell_type": "code",
   "execution_count": 1,
   "metadata": {},
   "outputs": [
    {
     "name": "stdout",
     "output_type": "stream",
     "text": [
      "Librerias Importadas\n"
     ]
    }
   ],
   "source": [
    "import pandas as pd\n",
    "import numpy as np\n",
    "import csv\n",
    "import requests\n",
    "import io\n",
    "from datetime import datetime,timedelta\n",
    "from sklearn.metrics import mean_squared_error\n",
    "from scipy.optimize import curve_fit\n",
    "from scipy.optimize import fsolve\n",
    "from sklearn import linear_model\n",
    "from sklearn.model_selection import train_test_split\n",
    "from sklearn.preprocessing import PolynomialFeatures\n",
    "import matplotlib.pyplot as plt\n",
    "print(\"Librerias Importadas\")"
   ]
  },
  {
   "cell_type": "code",
   "execution_count": 17,
   "metadata": {},
   "outputs": [
    {
     "name": "stdout",
     "output_type": "stream",
     "text": [
      "           date  confirmed  deaths  recovered  day\n",
      "0    2020-03-01          6       0          0   60\n",
      "1    2020-03-02          6       0          0   61\n",
      "2    2020-03-03          7       0          0   62\n",
      "3    2020-03-04         10       0          0   63\n",
      "4    2020-03-05         13       0          0   64\n",
      "..          ...        ...     ...        ...  ...\n",
      "404  2021-04-09     342678   17158     290314  464\n",
      "405  2021-04-10     344877   17275     290314  465\n",
      "406  2021-04-11     346817   17293     290314  466\n",
      "407  2021-04-12     347070   17298     290314  467\n",
      "408  2021-04-13     347589   17351     298604  468\n",
      "\n",
      "[409 rows x 5 columns]\n"
     ]
    }
   ],
   "source": [
    "url = 'https://raw.githubusercontent.com/YandryRo97/Simulaci-n/main/Pr%C3%A1ctica%202/covid.csv'\n",
    "df = pd.read_csv(url)\n",
    "print(df)"
   ]
  },
  {
   "cell_type": "code",
   "execution_count": 18,
   "metadata": {},
   "outputs": [
    {
     "name": "stdout",
     "output_type": "stream",
     "text": [
      "     day  confirmed\n",
      "0     60          6\n",
      "1     61          6\n",
      "2     62          7\n",
      "3     63         10\n",
      "4     64         13\n",
      "..   ...        ...\n",
      "404  464     342678\n",
      "405  465     344877\n",
      "406  466     346817\n",
      "407  467     347070\n",
      "408  468     347589\n",
      "\n",
      "[409 rows x 2 columns]\n"
     ]
    }
   ],
   "source": [
    "df = df.loc[:,['day','confirmed']]\n",
    "print(df)"
   ]
  },
  {
   "cell_type": "code",
   "execution_count": 19,
   "metadata": {},
   "outputs": [
    {
     "name": "stdout",
     "output_type": "stream",
     "text": [
      "(array([-7.30300897e-13,  9.99999999e-01]), array([[inf, inf],\n",
      "       [inf, inf]]))\n"
     ]
    },
    {
     "name": "stderr",
     "output_type": "stream",
     "text": [
      "C:\\Users\\USUARIO\\anaconda3\\lib\\site-packages\\scipy\\optimize\\minpack.py:787: RuntimeWarning: overflow encountered in square\n",
      "  cost = np.sum(infodict['fvec'] ** 2)\n",
      "C:\\Users\\USUARIO\\anaconda3\\lib\\site-packages\\scipy\\optimize\\minpack.py:828: OptimizeWarning: Covariance of the parameters could not be estimated\n",
      "  warnings.warn('Covariance of the parameters could not be estimated',\n"
     ]
    }
   ],
   "source": [
    "x=list(df.iloc[:,0])\n",
    "y=list(df.iloc[:,1])\n",
    "def funcion(x,a,b):\n",
    "    return a*np.exp(b*x)\n",
    "val=curve_fit( funcion,  x,  y)\n",
    "print(val)\n",
    "pred_x = list(range(min(x),max(x)+50))"
   ]
  },
  {
   "cell_type": "code",
   "execution_count": 21,
   "metadata": {},
   "outputs": [
    {
     "data": {
      "image/png": "[encoded data removed]",
      "text/plain": [
       "<Figure size 504x504 with 1 Axes>"
      ]
     },
     "metadata": {
      "needs_background": "light"
     },
     "output_type": "display_data"
    }
   ],
   "source": [
    "plt.rcParams['figure.figsize'] = [7, 7]\n",
    "plt.rc('font', size=14)\n",
    "plt.scatter(x,y,label=\"Datos Reales\",color=\"red\")\n",
    "plt.plot(df.loc[:,['day']], df.loc[:,['confirmed']])\n",
    "plt.plot(pred_x, [funcion(i,val[0][0],val[0][1]) for i in pred_x], label=\"Modelo Exponencial\" )\n",
    "plt.legend()\n",
    "plt.xlabel(\"Desde el 29 de Febrero 2020 día 1\")\n",
    "plt.ylabel(\"Total de personas infectadas\")\n",
    "plt.ylim((min(y)*0.9,max(y)*3.1))\n",
    "plt.show()"
   ]
  },
  {
   "cell_type": "code",
   "execution_count": null,
   "metadata": {},
   "outputs": [],
   "source": []
  }
 ],
 "metadata": {
  "kernelspec": {
   "display_name": "Python 3",
   "language": "python",
   "name": "python3"
  },
  "language_info": {
   "codemirror_mode": {
    "name": "ipython",
    "version": 3
   },
   "file_extension": ".py",
   "mimetype": "text/x-python",
   "name": "python",
   "nbconvert_exporter": "python",
   "pygments_lexer": "ipython3",
   "version": "3.8.3"
  }
 },
 "nbformat": 4,
 "nbformat_minor": 4
}
